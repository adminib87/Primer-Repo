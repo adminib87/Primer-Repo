{
 "cells": [
  {
   "attachments": {},
   "cell_type": "markdown",
   "metadata": {},
   "source": [
    "Clase 05.\n",
    "\"Fuciones, Líbrerias, Uso de random, .join, Diccionarios, Tuplas \" "
   ]
  },
  {
   "cell_type": "code",
   "execution_count": 1,
   "metadata": {},
   "outputs": [
    {
     "name": "stdout",
     "output_type": "stream",
     "text": [
      "Hola Mundo\n"
     ]
    }
   ],
   "source": [
    "print(\"Hola Mundo\")"
   ]
  },
  {
   "cell_type": "code",
   "execution_count": 5,
   "metadata": {},
   "outputs": [],
   "source": [
    "##Esta función devuelve el numero de vocales al ingresar determinada palabra\n",
    "def get_count(sentence):\n",
    "    contador_vocales=0;\n",
    "    \n",
    "    # abracadabra\n",
    "    \n",
    "    for letra in sentence:\n",
    "        if letra in \"aeiou\":\n",
    "            contador_vocales +=1\n",
    "    return contador_vocales\n"
   ]
  },
  {
   "cell_type": "code",
   "execution_count": 4,
   "metadata": {},
   "outputs": [
    {
     "data": {
      "text/plain": [
       "5"
      ]
     },
     "execution_count": 4,
     "metadata": {},
     "output_type": "execute_result"
    }
   ],
   "source": [
    "#Haciendo uso de la funciòn anterior\n",
    "get_count('abracadabra')"
   ]
  },
  {
   "cell_type": "code",
   "execution_count": null,
   "metadata": {},
   "outputs": [],
   "source": [
    "#Comprensiones de lista\n",
    "def get_count(sentence):\n",
    "    return sum([1 for letra in sentence if letra in 'aeiou'])\n",
    "\n",
    "##Devulve 1, por  cada vez que encuentres letra en un palabra"
   ]
  },
  {
   "cell_type": "code",
   "execution_count": 6,
   "metadata": {},
   "outputs": [],
   "source": [
    "##Librerías\n",
    "# Importando random\n",
    "\n",
    "import random\n",
    "\n",
    "#De este modo importa metodos especificos.\n",
    "# from random import shuffle\n",
    "# from random import shuffle, randint"
   ]
  },
  {
   "cell_type": "code",
   "execution_count": 7,
   "metadata": {},
   "outputs": [
    {
     "name": "stdout",
     "output_type": "stream",
     "text": [
      "4\n"
     ]
    }
   ],
   "source": [
    "#Devulve un numero aleatorio entre 0, 10\n",
    "print(random.randint(0,10))"
   ]
  },
  {
   "cell_type": "code",
   "execution_count": 90,
   "metadata": {},
   "outputs": [
    {
     "name": "stdout",
     "output_type": "stream",
     "text": [
      "Ganaste\n"
     ]
    }
   ],
   "source": [
    "#FUNCION DADO\n",
    "def adivinar_dado(numero_a_adivinar):\n",
    "    dado=random.randint(1,6)\n",
    "    if dado == numero_a_adivinar:\n",
    "        return 'Ganaste'\n",
    "    else:\n",
    "        return f'Perdiste, salio {dado}'\n",
    "\n",
    "num = int(input(\"Número\"))\n",
    "\n",
    "resultado= adivinar_dado(num)\n",
    "print(resultado)\n"
   ]
  },
  {
   "cell_type": "code",
   "execution_count": 94,
   "metadata": {},
   "outputs": [
    {
     "name": "stdout",
     "output_type": "stream",
     "text": [
      "[16, 13, 26, 19, 4, 20, 2, 12, 30, 10]\n"
     ]
    }
   ],
   "source": [
    "#Crear una lista vacia y meter 10 numeros aleatorios con la funcion randint que vayan entre 0 y 30\n",
    "\n",
    "lista_vacia=[]\n",
    "for i in range (10):\n",
    "    num=random.randint(0,30)\n",
    "    lista_vacia.append(num)\n",
    "print(lista_vacia)\n",
    "\n"
   ]
  },
  {
   "cell_type": "code",
   "execution_count": 16,
   "metadata": {},
   "outputs": [
    {
     "name": "stdout",
     "output_type": "stream",
     "text": [
      "['Naranja', 'Manzana', 'Plátano', 'Pera']\n"
     ]
    }
   ],
   "source": [
    "#DESORNEDA LOS ELEMENTO QUE TENEMOS ADENTRO...TRABAJA SOBRE ESTRUCTURAS\n",
    "\n",
    "mis_frutas = ['Manzana', 'Plátano', 'Pera', 'Naranja']\n",
    "\n",
    "#DESORNEDA LOS ELEMENTO QUE TENEMOS ADENTRO...TRABAJA SOBRE ESTRUCTURAS\n",
    "random.shuffle(mis_frutas)\n",
    "\n",
    "print(mis_frutas)"
   ]
  },
  {
   "cell_type": "code",
   "execution_count": 17,
   "metadata": {},
   "outputs": [
    {
     "name": "stdout",
     "output_type": "stream",
     "text": [
      "Pera\n"
     ]
    }
   ],
   "source": [
    "#POR QUE TRABAJA SOBRE UNA ESTRUCTURA?\n",
    "\n",
    "#entrega un elemento porque trabaja dentro de una estructura\n",
    "\n",
    "print(random.choice(mis_frutas))"
   ]
  },
  {
   "cell_type": "code",
   "execution_count": 18,
   "metadata": {},
   "outputs": [
    {
     "name": "stdout",
     "output_type": "stream",
     "text": [
      "o\n"
     ]
    }
   ],
   "source": [
    "#Aplica para un string\n",
    "print(random.choice(\"Hola Mundo\"))"
   ]
  },
  {
   "cell_type": "code",
   "execution_count": 19,
   "metadata": {},
   "outputs": [],
   "source": [
    "#Lista vacia\n",
    "texto = \"\""
   ]
  },
  {
   "cell_type": "code",
   "execution_count": 38,
   "metadata": {},
   "outputs": [],
   "source": [
    "#Uso de random...ejecuta 1\n",
    "texto += random.choice(\"Ajolote\")"
   ]
  },
  {
   "cell_type": "code",
   "execution_count": 39,
   "metadata": {},
   "outputs": [
    {
     "name": "stdout",
     "output_type": "stream",
     "text": [
      "AjloooeoAo\n"
     ]
    }
   ],
   "source": [
    "# ejecuta 2\n",
    "print(texto)"
   ]
  },
  {
   "cell_type": "code",
   "execution_count": 40,
   "metadata": {},
   "outputs": [
    {
     "name": "stdout",
     "output_type": "stream",
     "text": [
      "aiiieoeuoi\n"
     ]
    }
   ],
   "source": [
    "#Devuelve 10 veces letras aleatorios\n",
    "string_vacio=\"\"\n",
    "\n",
    "for i in range(10):\n",
    "    string_vacio += random.choice('aeiou')\n",
    "\n",
    "print(string_vacio)\n"
   ]
  },
  {
   "cell_type": "code",
   "execution_count": 48,
   "metadata": {},
   "outputs": [
    {
     "data": {
      "text/plain": [
       "'hola Mundo en Python'"
      ]
     },
     "execution_count": 48,
     "metadata": {},
     "output_type": "execute_result"
    }
   ],
   "source": [
    "#Pregunta de Examen\n",
    "\n",
    "\" \".join(['hola','Mundo', 'en', 'Python'])"
   ]
  },
  {
   "cell_type": "code",
   "execution_count": 49,
   "metadata": {},
   "outputs": [
    {
     "data": {
      "text/plain": [
       "'iiauuuioou'"
      ]
     },
     "execution_count": 49,
     "metadata": {},
     "output_type": "execute_result"
    }
   ],
   "source": [
    "#Otra forma de ejecutar con un ciclo ahora\n",
    "\"\".join([random.choice('aeiou') for i in range (10)])"
   ]
  },
  {
   "attachments": {},
   "cell_type": "markdown",
   "metadata": {},
   "source": [
    "## Projecto: Generador de Contraseñas\n",
    "Paso 1: Pedir al usuario una longitud n que va a tener su contraseña\n",
    "Paso 2: Crear una función llamada 'generador_contraseñas' y recibirá un parámetro 'longitud'\n",
    "Paso 3: Dentro de la función crear un string llamado 'letras' que va a contener de la A-Z y a-z ejem: 'ABC..Zabc..z'\n",
    "Paso 4: Crear un string vacio\n",
    "Paso 5: Despues hacer un ciclo for que itere sobre 'longitud'\n",
    "Paso 6: Dentro del ciclo for concatenar a nuestro string vacio un random.choice de nuestro string letras\n",
    "Paso 7: Devolver con return la variable letras\n",
    "Paso 8: Imprimir el resultado "
   ]
  },
  {
   "cell_type": "code",
   "execution_count": 102,
   "metadata": {},
   "outputs": [],
   "source": [
    "## Projecto: Generador de Contraseñas\n",
    "\n",
    "def generador_contraseñas(longitud): #longitud es el parametro que se le pasa a la función.\n",
    "    letras='ABCDEFGHIJKLMNOPQRSTUVXYWZabcdefghijklmnopqrstuvxyz'\n",
    "    vacio=''\n",
    "    for _ in range (longitud):\n",
    "        vacio += random.choice(letras)\n",
    "    return vacio"
   ]
  },
  {
   "cell_type": "code",
   "execution_count": 100,
   "metadata": {},
   "outputs": [
    {
     "name": "stdout",
     "output_type": "stream",
     "text": [
      "LgMJXeZmRoONOuz\n"
     ]
    }
   ],
   "source": [
    "#Haciendo uso del generador de contraseñas\n",
    "n = int(input(\"Dame la longitud\"))\n",
    "\n",
    "resultado = generador_contraseñas(n)\n",
    "\n",
    "print(resultado)"
   ]
  },
  {
   "cell_type": "code",
   "execution_count": 61,
   "metadata": {},
   "outputs": [
    {
     "data": {
      "text/plain": [
       "[0, 1, 2, 3, 4, 5, 6, 7, 8, 9]"
      ]
     },
     "execution_count": 61,
     "metadata": {},
     "output_type": "execute_result"
    }
   ],
   "source": [
    "##LISTA COMPREHENSION\n",
    "#Ejemplo 1.\n",
    "[i for i in range(10)]"
   ]
  },
  {
   "cell_type": "code",
   "execution_count": 60,
   "metadata": {},
   "outputs": [
    {
     "data": {
      "text/plain": [
       "[0, 1, 4, 9, 16, 25, 36, 49, 64, 81]"
      ]
     },
     "execution_count": 60,
     "metadata": {},
     "output_type": "execute_result"
    }
   ],
   "source": [
    "#Ejemplo 2.\n",
    "[i**2 for i in range(10)]"
   ]
  },
  {
   "cell_type": "code",
   "execution_count": 63,
   "metadata": {},
   "outputs": [
    {
     "data": {
      "text/plain": [
       "[36, 49, 64, 81]"
      ]
     },
     "execution_count": 63,
     "metadata": {},
     "output_type": "execute_result"
    }
   ],
   "source": [
    "#Ejemplo 3.\n",
    "###Ejecuta el for...luego el elemento de la i\n",
    "[i**2 for i in range(10) if i**2 >25]"
   ]
  },
  {
   "cell_type": "code",
   "execution_count": 64,
   "metadata": {},
   "outputs": [
    {
     "data": {
      "text/plain": [
       "['a', 'e', 'i']"
      ]
     },
     "execution_count": 64,
     "metadata": {},
     "output_type": "execute_result"
    }
   ],
   "source": [
    "# Hace el ciclo, verifica la condicional, si cumple devuelve lo que le pongamos a la izquierda..sino no devuelve nada\n",
    "[letra for letra in 'jvbaeijsv' if letra in 'aeiou']"
   ]
  },
  {
   "cell_type": "code",
   "execution_count": 66,
   "metadata": {},
   "outputs": [],
   "source": [
    "# DICT COMPREHESION\n",
    "\n",
    "diccionarios= {\n",
    "    'México':'CDMX',\n",
    "    'Colombia': 'Bogotá'\n",
    "}"
   ]
  },
  {
   "cell_type": "code",
   "execution_count": 70,
   "metadata": {},
   "outputs": [
    {
     "data": {
      "text/plain": [
       "dict_keys(['México', 'Colombia'])"
      ]
     },
     "execution_count": 70,
     "metadata": {},
     "output_type": "execute_result"
    }
   ],
   "source": [
    "#SUS LLAVES\n",
    "diccionarios.keys()"
   ]
  },
  {
   "cell_type": "code",
   "execution_count": 69,
   "metadata": {},
   "outputs": [
    {
     "data": {
      "text/plain": [
       "dict_values(['CDMX', 'Bogotá'])"
      ]
     },
     "execution_count": 69,
     "metadata": {},
     "output_type": "execute_result"
    }
   ],
   "source": [
    "#SUS VALORES\n",
    "diccionarios.values()"
   ]
  },
  {
   "cell_type": "code",
   "execution_count": 71,
   "metadata": {},
   "outputs": [
    {
     "data": {
      "text/plain": [
       "'CDMX'"
      ]
     },
     "execution_count": 71,
     "metadata": {},
     "output_type": "execute_result"
    }
   ],
   "source": [
    "#LO PUEDO MANDAR A LLAMAR Y ME DA SU VALOR\n",
    "diccionarios['México']"
   ]
  },
  {
   "cell_type": "code",
   "execution_count": 72,
   "metadata": {},
   "outputs": [],
   "source": [
    "population = {\n",
    "    'CDMX': 1_000_000,\n",
    "    'Puebla': 500_00\n",
    "}"
   ]
  },
  {
   "cell_type": "code",
   "execution_count": 73,
   "metadata": {},
   "outputs": [
    {
     "data": {
      "text/plain": [
       "dict_values([1000000, 50000])"
      ]
     },
     "execution_count": 73,
     "metadata": {},
     "output_type": "execute_result"
    }
   ],
   "source": [
    "population.values()"
   ]
  },
  {
   "cell_type": "code",
   "execution_count": 74,
   "metadata": {},
   "outputs": [
    {
     "name": "stdout",
     "output_type": "stream",
     "text": [
      "{'CDMX': 1000000, 'Puebla': 50000}\n"
     ]
    }
   ],
   "source": [
    "print(population)"
   ]
  },
  {
   "attachments": {},
   "cell_type": "markdown",
   "metadata": {},
   "source": [
    "##CONJUNTOS"
   ]
  },
  {
   "cell_type": "code",
   "execution_count": 77,
   "metadata": {},
   "outputs": [
    {
     "data": {
      "text/plain": [
       "{'A', 'B', 'C'}"
      ]
     },
     "execution_count": 77,
     "metadata": {},
     "output_type": "execute_result"
    }
   ],
   "source": [
    "conjunto = {'A','B','C'}\n",
    "\n",
    "conjunto"
   ]
  },
  {
   "cell_type": "code",
   "execution_count": 78,
   "metadata": {},
   "outputs": [
    {
     "name": "stdout",
     "output_type": "stream",
     "text": [
      "{8, 2, 4, 6}\n"
     ]
    }
   ],
   "source": [
    "#QUITA REPETIDOS\n",
    "conjunto = {2,4,6,4,8,2}\n",
    "\n",
    "print(conjunto)"
   ]
  },
  {
   "cell_type": "code",
   "execution_count": 105,
   "metadata": {},
   "outputs": [
    {
     "data": {
      "text/plain": [
       "{4, 5, 6, 7, 8}"
      ]
     },
     "execution_count": 105,
     "metadata": {},
     "output_type": "execute_result"
    }
   ],
   "source": [
    "a = {4, 5, 6}\n",
    "b = {5, 7, 8}\n",
    "\n",
    "a & b #interseccion\n",
    "a | b #union"
   ]
  },
  {
   "cell_type": "code",
   "execution_count": 79,
   "metadata": {},
   "outputs": [],
   "source": [
    "###Tupla\n",
    "\n",
    "mi_tupla = (4,5,6)"
   ]
  },
  {
   "cell_type": "code",
   "execution_count": 82,
   "metadata": {},
   "outputs": [
    {
     "name": "stdout",
     "output_type": "stream",
     "text": [
      "97.7768\n"
     ]
    }
   ],
   "source": [
    "###Tupla, otra forma de declarar.\n",
    "\n",
    "longitud, latitud = (97.7768, 96.7474)\n",
    "\n",
    "print(longitud)\n"
   ]
  },
  {
   "cell_type": "code",
   "execution_count": 83,
   "metadata": {},
   "outputs": [
    {
     "data": {
      "text/plain": [
       "96.7474"
      ]
     },
     "execution_count": 83,
     "metadata": {},
     "output_type": "execute_result"
    }
   ],
   "source": [
    "latitud"
   ]
  }
 ],
 "metadata": {
  "kernelspec": {
   "display_name": "Python 3",
   "language": "python",
   "name": "python3"
  },
  "language_info": {
   "codemirror_mode": {
    "name": "ipython",
    "version": 3
   },
   "file_extension": ".py",
   "mimetype": "text/x-python",
   "name": "python",
   "nbconvert_exporter": "python",
   "pygments_lexer": "ipython3",
   "version": "3.11.0"
  },
  "orig_nbformat": 4,
  "vscode": {
   "interpreter": {
    "hash": "aee8b7b246df8f9039afb4144a1f6fd8d2ca17a180786b69acc140d282b71a49"
   }
  }
 },
 "nbformat": 4,
 "nbformat_minor": 2
}
